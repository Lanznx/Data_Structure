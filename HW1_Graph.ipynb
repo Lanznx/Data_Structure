{
  "nbformat": 4,
  "nbformat_minor": 0,
  "metadata": {
    "colab": {
      "provenance": [],
      "collapsed_sections": [],
      "mount_file_id": "15I2_jbZ_khKiKH9dO54V9Tgo8mO_GOZU",
      "authorship_tag": "ABX9TyOpeyBz7G94U+zRnZe32Sk4",
      "include_colab_link": true
    },
    "kernelspec": {
      "name": "python3",
      "display_name": "Python 3"
    },
    "language_info": {
      "name": "python"
    }
  },
  "cells": [
    {
      "cell_type": "markdown",
      "metadata": {
        "id": "view-in-github",
        "colab_type": "text"
      },
      "source": [
        "<a href=\"https://colab.research.google.com/github/Lanznx/Data_Structure/blob/master/HW1_Graph.ipynb\" target=\"_parent\"><img src=\"https://colab.research.google.com/assets/colab-badge.svg\" alt=\"Open In Colab\"/></a>"
      ]
    },
    {
      "cell_type": "code",
      "execution_count": 1,
      "metadata": {
        "id": "tbelNqjQ9ky1"
      },
      "outputs": [],
      "source": [
        "import pandas as pd\n",
        "import numpy as np\n",
        "import matplotlib.pyplot as plt\n",
        "from sklearn import linear_model\n",
        "from sklearn.linear_model import LinearRegression\n",
        "from sklearn.preprocessing import PolynomialFeatures\n",
        "from sklearn.metrics import mean_squared_error, r2_score\n"
      ]
    },
    {
      "cell_type": "markdown",
      "source": [
        "# 1. Insert"
      ],
      "metadata": {
        "id": "5vNVRMPwtmnC"
      }
    },
    {
      "cell_type": "markdown",
      "source": [
        "## 1.1 實際數據"
      ],
      "metadata": {
        "id": "qkSckCbwtyvn"
      }
    },
    {
      "cell_type": "markdown",
      "source": [
        "1.1.1 載入資料"
      ],
      "metadata": {
        "id": "HUA3bYsptR8a"
      }
    },
    {
      "cell_type": "code",
      "source": [
        "df_array = pd.read_csv(\"/content/drive/MyDrive/資料結構/01_Insert_ArrayList.csv\")\n",
        "df_vector = pd.read_csv(\"/content/drive/MyDrive/資料結構/02_Insert_Vector.csv\")\n",
        "df_linked_list = pd.read_csv(\"/content/drive/MyDrive/資料結構/03_Insert_LinkedList.csv\")\n",
        "\n",
        "\n",
        "y1 = list(df_array['time'])\n",
        "x1 = list(df_array['k'])\n",
        "\n",
        "y2 = list(df_vector['time'])\n",
        "x2 = list(df_vector['k'])\n",
        "\n",
        "y3 = list(df_linked_list['time'])\n",
        "x3 = list(df_linked_list['k'])"
      ],
      "metadata": {
        "id": "UOf1KHG493Lg"
      },
      "execution_count": 8,
      "outputs": []
    },
    {
      "cell_type": "markdown",
      "source": [
        "1.1.2 實際數據畫出的折線圖"
      ],
      "metadata": {
        "id": "qlnqn2oltWO3"
      }
    },
    {
      "cell_type": "code",
      "source": [
        "fig, ax = plt.subplots()\n",
        "# ax.set_xscale('log', basex=2)\n",
        "# ax.set_yscale('log', basey=10)\n",
        "\n",
        "plt.plot(x1, y1, label=\"ArrayList\")\n",
        "plt.plot(x2, y2, label=\"Vector\")\n",
        "plt.plot(x3, y3, label=\"Linked List\")\n",
        "plt.legend()"
      ],
      "metadata": {
        "colab": {
          "base_uri": "https://localhost:8080/",
          "height": 306
        },
        "id": "4hO_FGiW-yjj",
        "outputId": "6c6986ed-8a3d-4353-b5ff-9daf4a7c0c93"
      },
      "execution_count": 9,
      "outputs": [
        {
          "output_type": "execute_result",
          "data": {
            "text/plain": [
              "<matplotlib.legend.Legend at 0x7f8144181ad0>"
            ]
          },
          "metadata": {},
          "execution_count": 9
        },
        {
          "output_type": "display_data",
          "data": {
            "text/plain": [
              "<Figure size 432x288 with 1 Axes>"
            ],
            "image/png": "[encoded data removed]"
          },
          "metadata": {
            "needs_background": "light"
          }
        }
      ]
    },
    {
      "cell_type": "markdown",
      "source": [
        "## 1.2 預測數據"
      ],
      "metadata": {
        "id": "wnF0BxiCuAbm"
      }
    },
    {
      "cell_type": "markdown",
      "source": [
        "1.2.1 切分訓練、測試資料"
      ],
      "metadata": {
        "id": "MeXlPQgxtcfe"
      }
    },
    {
      "cell_type": "code",
      "source": [
        "x1 = np.array(x1).reshape(-1,1)\n",
        "x2 = np.array(x2).reshape(-1,1)\n",
        "x3 = np.array(x3).reshape(-1,1)\n",
        "\n",
        "y1 = np.array(y1)\n",
        "y2 = np.array(y2)\n",
        "y3 = np.array(y3)\n",
        "\n",
        "test_x1 = np.arange(2**25, 2**30, 50).reshape(-1, 1)\n",
        "test_x2 = np.arange(2**25, 2**30, 50).reshape(-1, 1)\n",
        "test_x3 = np.arange(2**25, 2**30, 50).reshape(-1, 1)"
      ],
      "metadata": {
        "id": "V6VUhzh2mSdH"
      },
      "execution_count": 5,
      "outputs": []
    },
    {
      "cell_type": "markdown",
      "source": [
        "1.2.2 訓練模型"
      ],
      "metadata": {
        "id": "lABQBDZSnFc7"
      }
    },
    {
      "cell_type": "code",
      "source": [
        "fig, ax = plt.subplots()\n",
        "regr1 = LinearRegression()\n",
        "regr1.fit(x1,y1)\n",
        "regr2 = LinearRegression()\n",
        "regr2.fit(x2,y2)\n",
        "regr3 = LinearRegression()\n",
        "regr3.fit(x3,y3)\n",
        "\n",
        "# ax.set_yscale('log', basey=10)\n",
        "ax.set_xscale('log', basex=2)\n",
        "\n",
        "poly_regr1 = PolynomialFeatures(degree=3)\n",
        "poly_regr2 = PolynomialFeatures(degree=3)\n",
        "poly_regr3 = PolynomialFeatures(degree=3)\n",
        "\n",
        "x1_poly = poly_regr1.fit_transform(x1)\n",
        "regr1_train = LinearRegression()\n",
        "\n",
        "x2_poly = poly_regr2.fit_transform(x2)\n",
        "regr2_train = LinearRegression()\n",
        "\n",
        "x3_poly = poly_regr3.fit_transform(x3)\n",
        "regr3_train = LinearRegression()\n",
        "\n",
        "regr1_train.fit(x1_poly, y1)\n",
        "regr2_train.fit(x2_poly, y2)\n",
        "regr3_train.fit(x3_poly, y3)\n",
        "\n",
        "\n",
        "plt.plot(x1, regr1.predict(x1), color=\"blue\")\n",
        "plt.plot(x2, regr1.predict(x2), color=\"orange\")\n",
        "plt.plot(x3, regr1.predict(x3), color=\"green\")\n",
        "\n",
        "plt.plot(test_x1, regr1.predict(test_x1), color=\"blue\", linestyle=\"--\", label=\"ArrayList\")\n",
        "plt.plot(test_x2, regr2.predict(test_x2), color=\"orange\", linestyle=\"--\", label=\"Vector\")\n",
        "plt.plot(test_x3, regr3.predict(test_x3), color=\"green\", linestyle=\"--\", label=\"LinkedList\")\n",
        "\n",
        "plt.legend()\n"
      ],
      "metadata": {
        "colab": {
          "base_uri": "https://localhost:8080/",
          "height": 297
        },
        "id": "PT8EH_1XWKca",
        "outputId": "31ae8cac-117c-44a7-c8df-8cfc39748038"
      },
      "execution_count": 6,
      "outputs": [
        {
          "output_type": "execute_result",
          "data": {
            "text/plain": [
              "<matplotlib.legend.Legend at 0x7fd6de9b5090>"
            ]
          },
          "metadata": {},
          "execution_count": 6
        },
        {
          "output_type": "display_data",
          "data": {
            "text/plain": [
              "<Figure size 432x288 with 1 Axes>"
            ],
            "image/png": "[encoded data removed]"
          },
          "metadata": {
            "needs_background": "light"
          }
        }
      ]
    },
    {
      "cell_type": "markdown",
      "source": [
        "# 2. Sum"
      ],
      "metadata": {
        "id": "XxaKwZ_Q0nBT"
      }
    },
    {
      "cell_type": "markdown",
      "source": [
        "## 2.1 實際數據"
      ],
      "metadata": {
        "id": "ywbLvC0y0nBf"
      }
    },
    {
      "cell_type": "markdown",
      "source": [
        "2.1.1 載入資料"
      ],
      "metadata": {
        "id": "iGb3fnHF0nBf"
      }
    },
    {
      "cell_type": "code",
      "source": [
        "df_array = pd.read_csv(\"/content/drive/MyDrive/資料結構/04_Sum_ArrayList.csv\")\n",
        "df_vector = pd.read_csv(\"/content/drive/MyDrive/資料結構/05_Sum_Vector.csv\")\n",
        "df_linked_list = pd.read_csv(\"/content/drive/MyDrive/資料結構/06_Sum_LinkedList.csv\")\n",
        "\n",
        "\n",
        "y1 = list(df_array['time'])\n",
        "x1 = list(df_array['k'])\n",
        "\n",
        "y2 = list(df_vector['time'])\n",
        "x2 = list(df_vector['k'])\n",
        "\n",
        "y3 = list(df_linked_list['time'])\n",
        "x3 = list(df_linked_list['k'])"
      ],
      "metadata": {
        "id": "5ti2vJ620nBf"
      },
      "execution_count": 2,
      "outputs": []
    },
    {
      "cell_type": "markdown",
      "source": [
        "2.1.2 實際數據畫出的折線圖"
      ],
      "metadata": {
        "id": "WJ799Zbt0nBg"
      }
    },
    {
      "cell_type": "code",
      "source": [
        "fig, ax = plt.subplots()\n",
        "ax.set_xscale('log', basex=2)\n",
        "\n",
        "plt.plot(x1, y1, label=\"ArrayList\")\n",
        "plt.plot(x2, y2, label=\"Vector\")\n",
        "plt.plot(x3, y3, label=\"Linked List\")\n",
        "plt.legend()"
      ],
      "metadata": {
        "colab": {
          "base_uri": "https://localhost:8080/",
          "height": 297
        },
        "outputId": "4d4509ab-a0ed-410c-e0aa-baa2699befbd",
        "id": "8K1rYp7A0nBg"
      },
      "execution_count": 5,
      "outputs": [
        {
          "output_type": "execute_result",
          "data": {
            "text/plain": [
              "<matplotlib.legend.Legend at 0x7f813ed52f50>"
            ]
          },
          "metadata": {},
          "execution_count": 5
        },
        {
          "output_type": "display_data",
          "data": {
            "text/plain": [
              "<Figure size 432x288 with 1 Axes>"
            ],
            "image/png": "[encoded data removed]"
          },
          "metadata": {
            "needs_background": "light"
          }
        }
      ]
    },
    {
      "cell_type": "markdown",
      "source": [
        "## 2.2 預測數據"
      ],
      "metadata": {
        "id": "4xmSB7BQ0nBg"
      }
    },
    {
      "cell_type": "markdown",
      "source": [
        "2.2.1 切分訓練、測試資料"
      ],
      "metadata": {
        "id": "IcPTmDL-0nBg"
      }
    },
    {
      "cell_type": "code",
      "source": [
        "x1 = np.array(x1).reshape(-1,1)\n",
        "x2 = np.array(x2).reshape(-1,1)\n",
        "x3 = np.array(x3).reshape(-1,1)\n",
        "\n",
        "y1 = np.array(y1)\n",
        "y2 = np.array(y2)\n",
        "y3 = np.array(y3)\n",
        "\n",
        "test_x1 = np.arange(2**25, 2**30, 50).reshape(-1, 1)\n",
        "test_x2 = np.arange(2**25, 2**30, 50).reshape(-1, 1)\n",
        "test_x3 = np.arange(2**13, 2**20, 50).reshape(-1, 1)"
      ],
      "metadata": {
        "id": "xyHuIRKR0nBg"
      },
      "execution_count": 3,
      "outputs": []
    },
    {
      "cell_type": "markdown",
      "source": [
        "2.2.2 訓練模型"
      ],
      "metadata": {
        "id": "PjVRqzmZ0nBh"
      }
    },
    {
      "cell_type": "code",
      "source": [
        "fig, ax = plt.subplots()\n",
        "regr1 = LinearRegression()\n",
        "regr1.fit(x1,y1)\n",
        "regr2 = LinearRegression()\n",
        "regr2.fit(x2,y2)\n",
        "regr3 = LinearRegression()\n",
        "regr3.fit(x3,y3)\n",
        "\n",
        "ax.set_xscale('log', basex=2)\n",
        "\n",
        "poly_regr1 = PolynomialFeatures(degree=3)\n",
        "poly_regr2 = PolynomialFeatures(degree=3)\n",
        "poly_regr3 = PolynomialFeatures(degree=3)\n",
        "\n",
        "x1_poly = poly_regr1.fit_transform(x1)\n",
        "regr1_train = LinearRegression()\n",
        "\n",
        "x2_poly = poly_regr2.fit_transform(x2)\n",
        "regr2_train = LinearRegression()\n",
        "\n",
        "x3_poly = poly_regr3.fit_transform(x3)\n",
        "regr3_train = LinearRegression()\n",
        "\n",
        "regr1_train.fit(x1_poly, y1)\n",
        "regr2_train.fit(x2_poly, y2)\n",
        "regr3_train.fit(x3_poly, y3)\n",
        "\n",
        "\n",
        "plt.plot(x1, regr1.predict(x1), color=\"blue\")\n",
        "plt.plot(x2, regr1.predict(x2), color=\"orange\")\n",
        "plt.plot(x3, regr1.predict(x3), color=\"green\")\n",
        "\n",
        "plt.plot(test_x1, regr1.predict(test_x1), color=\"blue\", linestyle=\"--\", label=\"ArrayList\")\n",
        "plt.plot(test_x2, regr2.predict(test_x2), color=\"orange\", linestyle=\"--\", label=\"Vector\")\n",
        "plt.plot(test_x3, regr3.predict(test_x3), color=\"green\", linestyle=\"--\", label=\"LinkedList\")\n",
        "\n",
        "plt.legend()\n"
      ],
      "metadata": {
        "colab": {
          "base_uri": "https://localhost:8080/",
          "height": 297
        },
        "outputId": "72931347-0383-4885-ef74-c5340215804b",
        "id": "Pym0EFHE0nBh"
      },
      "execution_count": 4,
      "outputs": [
        {
          "output_type": "execute_result",
          "data": {
            "text/plain": [
              "<matplotlib.legend.Legend at 0x7fd6dc8d9c10>"
            ]
          },
          "metadata": {},
          "execution_count": 4
        },
        {
          "output_type": "display_data",
          "data": {
            "text/plain": [
              "<Figure size 432x288 with 1 Axes>"
            ],
            "image/png": "[encoded data removed]"
          },
          "metadata": {
            "needs_background": "light"
          }
        }
      ]
    },
    {
      "cell_type": "code",
      "source": [],
      "metadata": {
        "id": "55MxbFXJ5I-z"
      },
      "execution_count": null,
      "outputs": []
    }
  ]
}