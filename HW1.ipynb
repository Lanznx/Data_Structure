{
  "nbformat": 4,
  "nbformat_minor": 0,
  "metadata": {
    "colab": {
      "provenance": [],
      "collapsed_sections": [],
      "mount_file_id": "15I2_jbZ_khKiKH9dO54V9Tgo8mO_GOZU",
      "authorship_tag": "ABX9TyOhmQ9dpSz+D1FabPoSWM/D",
      "include_colab_link": true
    },
    "kernelspec": {
      "name": "python3",
      "display_name": "Python 3"
    },
    "language_info": {
      "name": "python"
    }
  },
  "cells": [
    {
      "cell_type": "markdown",
      "metadata": {
        "id": "view-in-github",
        "colab_type": "text"
      },
      "source": [
        "<a href=\"https://colab.research.google.com/github/Lanznx/Data_Structure/blob/master/HW1.ipynb\" target=\"_parent\"><img src=\"https://colab.research.google.com/assets/colab-badge.svg\" alt=\"Open In Colab\"/></a>"
      ]
    },
    {
      "cell_type": "code",
      "execution_count": 7,
      "metadata": {
        "id": "tbelNqjQ9ky1"
      },
      "outputs": [],
      "source": [
        "import pandas as pd\n",
        "import numpy as np\n",
        "import matplotlib.pyplot as plt\n",
        "from sklearn import linear_model\n",
        "from sklearn.metrics import mean_squared_error, r2_score\n"
      ]
    },
    {
      "cell_type": "markdown",
      "source": [
        "# 1. Insert"
      ],
      "metadata": {
        "id": "5vNVRMPwtmnC"
      }
    },
    {
      "cell_type": "markdown",
      "source": [
        "## 1.1 實際數據"
      ],
      "metadata": {
        "id": "qkSckCbwtyvn"
      }
    },
    {
      "cell_type": "markdown",
      "source": [
        "1.1.1 載入資料"
      ],
      "metadata": {
        "id": "HUA3bYsptR8a"
      }
    },
    {
      "cell_type": "code",
      "source": [
        "df_array = pd.read_csv(\"/content/drive/MyDrive/資料結構/01_Insert_ArrayList.csv\")\n",
        "df_vector = pd.read_csv(\"/content/drive/MyDrive/資料結構/02_Insert_Vector.csv\")\n",
        "df_linked_list = pd.read_csv(\"/content/drive/MyDrive/資料結構/03_Insert_LinkedList.csv\")\n",
        "\n",
        "factors = []\n",
        "for k in range(0, 26):\n",
        "  factors.append(2**k)"
      ],
      "metadata": {
        "id": "UOf1KHG493Lg"
      },
      "execution_count": 8,
      "outputs": []
    },
    {
      "cell_type": "markdown",
      "source": [
        "1.1.2 實際數據畫出的折線圖"
      ],
      "metadata": {
        "id": "qlnqn2oltWO3"
      }
    },
    {
      "cell_type": "code",
      "source": [
        "fig, ax = plt.subplots()\n",
        "ax.set_xscale('log', basex=2)\n",
        "ax.set_yscale('log', basey=10)\n",
        "\n",
        "y1 = list(df_array['time'])\n",
        "x1 = list(df_array['k'])  \n",
        "plt.plot(x1, y1, label=\"ArrayList\")\n",
        "\n",
        "y2 = list(df_vector['time'])\n",
        "x2 = list(df_vector['k'])\n",
        "plt.plot(x2, y2, label=\"Vector\")\n",
        "\n",
        "y3 = list(df_linked_list['time'])\n",
        "x3 = list(df_linked_list['k'])\n",
        "plt.plot(x3, y3, label=\"Linked List\")\n",
        "plt.legend()\n",
        "\n",
        "plt.savefig('foo1.png')"
      ],
      "metadata": {
        "colab": {
          "base_uri": "https://localhost:8080/",
          "height": 273
        },
        "id": "biJPP4BW93jW",
        "outputId": "ba071112-c306-4618-a192-5afea8b75bdd"
      },
      "execution_count": 9,
      "outputs": [
        {
          "output_type": "display_data",
          "data": {
            "text/plain": [
              "<Figure size 432x288 with 1 Axes>"
            ],
            "image/png": "[encoded data removed]"
          },
          "metadata": {
            "needs_background": "light"
          }
        }
      ]
    },
    {
      "cell_type": "markdown",
      "source": [
        "## 1.2 預測數據"
      ],
      "metadata": {
        "id": "wnF0BxiCuAbm"
      }
    },
    {
      "cell_type": "markdown",
      "source": [
        "1.2.1 切分訓練、測試資料"
      ],
      "metadata": {
        "id": "MeXlPQgxtcfe"
      }
    },
    {
      "cell_type": "code",
      "source": [
        "x1_train = [x1[:-20]]\n",
        "x1_test = [x1[-20:]]\n",
        "y1_train =[y1[:-20]]\n",
        "y1_test = [y1[-20:]]\n",
        "\n",
        "x2_train =[x2[:-20]]\n",
        "x2_test = [x2[-20:]]\n",
        "y2_train =[y2[:-20]]\n",
        "y2_test = [y2[-20:]]\n",
        "\n",
        "x3_train = [x3[:-20]]\n",
        "x3_test = [x3[-20:]]\n",
        "y3_train = [y3[:-20]]\n",
        "y3_test = [y3[-20:]]\n"
      ],
      "metadata": {
        "id": "V6VUhzh2mSdH"
      },
      "execution_count": 10,
      "outputs": []
    },
    {
      "cell_type": "code",
      "source": [
        "\n",
        "regr1 = linear_model.LinearRegression()\n",
        "# regr2 = linear_model.LinearRegression()\n",
        "# regr3 = linear_model.LinearRegression()\n",
        "\n",
        "regr1.fit(x1_train, y1_train)\n",
        "# regr2.fit(x2_train, y2_train)\n",
        "# regr3.fit(x3_train, y3_train)\n",
        "\n",
        "y1_pred = regr1.predict(x1_test)\n",
        "# y2_pred = regr2.predict(x2_test)\n",
        "# y3_pred = regr3.predict(x3_test)\n",
        "\n",
        "print(\"Coefficients of 1: \\n\", regr1.coef_)\n",
        "print(\"Mean squared error of 1: %.2f\" % mean_squared_error(x1_test, y1_pred))\n",
        "\n",
        "# print(\"Coefficients of 2: \\n\", regr2.coef_)\n",
        "# print(\"Mean squared error of 2: %.2f\" % mean_squared_error(x2_test, y2_pred))\n",
        "\n",
        "# print(\"Coefficients of 3: \\n\", regr3.coef_)\n",
        "# print(\"Mean squared error of 3: %.2f\" % mean_squared_error(x3_test, y3_pred))\n",
        "\n",
        "plt.scatter(x1_test, y1_test, color=\"black\")\n",
        "plt.plot(x1_test, y1_pred, color=\"blue\", linewidth=3)\n",
        "\n"
      ],
      "metadata": {
        "id": "32ax_XzqxNb7"
      },
      "execution_count": null,
      "outputs": []
    },
    {
      "cell_type": "markdown",
      "source": [
        "# 2. Sum"
      ],
      "metadata": {
        "id": "JhmuI9Pru--5"
      }
    },
    {
      "cell_type": "markdown",
      "source": [
        "## 2.1 實際數據"
      ],
      "metadata": {
        "id": "Xj7cAt3nvSSx"
      }
    },
    {
      "cell_type": "markdown",
      "source": [
        "2.1.1 載入資料"
      ],
      "metadata": {
        "id": "_4bEYXKGvDcU"
      }
    },
    {
      "cell_type": "code",
      "source": [
        "df_array = pd.read_csv(\"/content/drive/MyDrive/資料結構/04_Sum_ArrayList.csv\")\n",
        "df_vector = pd.read_csv(\"/content/drive/MyDrive/資料結構/05_Sum_Vector.csv\")\n",
        "df_linked_list = pd.read_csv(\"/content/drive/MyDrive/資料結構/06_Sum_LinkedList.csv\")"
      ],
      "metadata": {
        "colab": {
          "base_uri": "https://localhost:8080/",
          "height": 200
        },
        "id": "vutzrJIQzQPz",
        "outputId": "5bb3fd0d-9451-49a3-e6e3-895a9f803ac4"
      },
      "execution_count": 3,
      "outputs": [
        {
          "output_type": "error",
          "ename": "NameError",
          "evalue": "ignored",
          "traceback": [
            "\u001b[0;31m---------------------------------------------------------------------------\u001b[0m",
            "\u001b[0;31mNameError\u001b[0m                                 Traceback (most recent call last)",
            "\u001b[0;32m<ipython-input-3-7e7d5814a097>\u001b[0m in \u001b[0;36m<module>\u001b[0;34m\u001b[0m\n\u001b[0;32m----> 1\u001b[0;31m \u001b[0mdf_array\u001b[0m \u001b[0;34m=\u001b[0m \u001b[0mpd\u001b[0m\u001b[0;34m.\u001b[0m\u001b[0mread_csv\u001b[0m\u001b[0;34m(\u001b[0m\u001b[0;34m\"/content/drive/MyDrive/資料結構/04_Sum_ArrayList.csv\"\u001b[0m\u001b[0;34m)\u001b[0m\u001b[0;34m\u001b[0m\u001b[0;34m\u001b[0m\u001b[0m\n\u001b[0m\u001b[1;32m      2\u001b[0m \u001b[0mdf_vector\u001b[0m \u001b[0;34m=\u001b[0m \u001b[0mpd\u001b[0m\u001b[0;34m.\u001b[0m\u001b[0mread_csv\u001b[0m\u001b[0;34m(\u001b[0m\u001b[0;34m\"/content/drive/MyDrive/資料結構/05_Sum_Vector.csv\"\u001b[0m\u001b[0;34m)\u001b[0m\u001b[0;34m\u001b[0m\u001b[0;34m\u001b[0m\u001b[0m\n\u001b[1;32m      3\u001b[0m \u001b[0mdf_linked_list\u001b[0m \u001b[0;34m=\u001b[0m \u001b[0mpd\u001b[0m\u001b[0;34m.\u001b[0m\u001b[0mread_csv\u001b[0m\u001b[0;34m(\u001b[0m\u001b[0;34m\"/content/drive/MyDrive/資料結構/06_Sum_LinkedList.csv\"\u001b[0m\u001b[0;34m)\u001b[0m\u001b[0;34m\u001b[0m\u001b[0;34m\u001b[0m\u001b[0m\n",
            "\u001b[0;31mNameError\u001b[0m: name 'pd' is not defined"
          ]
        }
      ]
    },
    {
      "cell_type": "markdown",
      "source": [
        "2.1.2 實際數據畫出的折線圖"
      ],
      "metadata": {
        "id": "xeeXkPAMvHxj"
      }
    },
    {
      "cell_type": "code",
      "source": [
        "factors = []\n",
        "for k in range(0, 26):\n",
        "  factors.append(2**k)"
      ],
      "metadata": {
        "id": "hUtSfKqdzdui"
      },
      "execution_count": null,
      "outputs": []
    },
    {
      "cell_type": "code",
      "source": [
        "fig, ax = plt.subplots()\n",
        "ax.set_xscale('log', basex=2)\n",
        "ax.set_yscale('log', basey=10)\n",
        "# plt.xlim(2**16, 2**25)\n",
        "\n",
        "y1 = list(df_array['time'])\n",
        "x1 = list(df_array['k'])  \n",
        "plt.plot(x1, y1, label=\"ArrayList\")\n",
        "\n",
        "y2 = list(df_vector['time'])\n",
        "x2 = list(df_vector['k'])\n",
        "plt.plot(x2, y2, label=\"Vector\")\n",
        "\n",
        "y3 = list(df_linked_list['time'])\n",
        "x3 = list(df_linked_list['k'])\n",
        "plt.plot(x3, y3, label=\"Linked List\")\n",
        "plt.legend()\n",
        "\n",
        "plt.savefig('foo1.png')"
      ],
      "metadata": {
        "id": "PrY7uQzlzdpu"
      },
      "execution_count": null,
      "outputs": []
    },
    {
      "cell_type": "code",
      "source": [],
      "metadata": {
        "id": "IJRJBb1nmUIA"
      },
      "execution_count": null,
      "outputs": []
    }
  ]
}